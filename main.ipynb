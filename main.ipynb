{
 "cells": [
  {
   "cell_type": "code",
   "execution_count": 1,
   "id": "0741186c",
   "metadata": {},
   "outputs": [
    {
     "data": {
      "text/plain": [
       "('b', [])"
      ]
     },
     "execution_count": 1,
     "metadata": {},
     "output_type": "execute_result"
    }
   ],
   "source": [
    "from template.course import Course\n",
    "\n",
    "aa = Course('a', 'b')\n",
    "aa.code, aa.get_discipline()"
   ]
  },
  {
   "cell_type": "code",
   "execution_count": 2,
   "id": "229b1dae",
   "metadata": {},
   "outputs": [
    {
     "name": "stdout",
     "output_type": "stream",
     "text": [
      "Curso adicionado\n",
      "Usuário adicionado\n",
      "Disciplina adicionada\n"
     ]
    }
   ],
   "source": [
    "import backend.base.addBase as ab\n",
    "from backend.environmentVariable import EnvironmentVariables\n",
    "\n",
    "ab.addCourse('aaa', 'aaa')\n",
    "ab.addUser(EnvironmentVariables.DOCENTE, 'ss', 'eee')\n",
    "ab.addDiscipline('bbb', 'bbb')"
   ]
  },
  {
   "cell_type": "code",
   "execution_count": 1,
   "id": "4bdcc00c",
   "metadata": {},
   "outputs": [
    {
     "name": "stdout",
     "output_type": "stream",
     "text": [
      "Docente aceito\n",
      "Disciplina aceita\n"
     ]
    }
   ],
   "source": [
    "from backend.base.discipline import Discipline\n",
    "k = Discipline(\"bbb\", \"a\", [33], [33], \"a\", \"eee\")"
   ]
  },
  {
   "cell_type": "code",
   "execution_count": 2,
   "id": "7362d459",
   "metadata": {},
   "outputs": [],
   "source": [
    "k.register_discipline()"
   ]
  },
  {
   "cell_type": "code",
   "execution_count": 3,
   "id": "a9be27ea",
   "metadata": {},
   "outputs": [
    {
     "name": "stdout",
     "output_type": "stream",
     "text": [
      "Curso aceito\n"
     ]
    }
   ],
   "source": [
    "from backend.base.course import Course\n",
    "p = Course('aaa')"
   ]
  },
  {
   "cell_type": "code",
   "execution_count": 4,
   "id": "f15d7878",
   "metadata": {},
   "outputs": [
    {
     "name": "stdout",
     "output_type": "stream",
     "text": [
      "Disciplina aceita.\n"
     ]
    },
    {
     "data": {
      "text/plain": [
       "True"
      ]
     },
     "execution_count": 4,
     "metadata": {},
     "output_type": "execute_result"
    }
   ],
   "source": [
    "p.add_discipline(k)"
   ]
  },
  {
   "cell_type": "code",
   "execution_count": 5,
   "id": "41597225",
   "metadata": {},
   "outputs": [
    {
     "name": "stdout",
     "output_type": "stream",
     "text": [
      "Curso registrado\n"
     ]
    }
   ],
   "source": [
    "p.register_course()"
   ]
  },
  {
   "cell_type": "code",
   "execution_count": 11,
   "id": "34245fd7",
   "metadata": {},
   "outputs": [
    {
     "data": {
      "text/plain": [
       "{}"
      ]
     },
     "execution_count": 11,
     "metadata": {},
     "output_type": "execute_result"
    }
   ],
   "source": [
    "p.get_discipline()"
   ]
  },
  {
   "cell_type": "code",
   "execution_count": 10,
   "id": "f9fb54cd",
   "metadata": {},
   "outputs": [
    {
     "name": "stdout",
     "output_type": "stream",
     "text": [
      "Disciplina deletada desse curso\n"
     ]
    }
   ],
   "source": [
    "p.delete_discipline('bbb')"
   ]
  }
 ],
 "metadata": {
  "kernelspec": {
   "display_name": "venv",
   "language": "python",
   "name": "python3"
  },
  "language_info": {
   "codemirror_mode": {
    "name": "ipython",
    "version": 3
   },
   "file_extension": ".py",
   "mimetype": "text/x-python",
   "name": "python",
   "nbconvert_exporter": "python",
   "pygments_lexer": "ipython3",
   "version": "3.12.3"
  }
 },
 "nbformat": 4,
 "nbformat_minor": 5
}
