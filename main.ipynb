{
 "cells": [
  {
   "cell_type": "code",
   "execution_count": 2,
   "id": "229b1dae",
   "metadata": {},
   "outputs": [
    {
     "name": "stdout",
     "output_type": "stream",
     "text": [
      "Curso adicionado\n",
      "Usuário adicionado\n",
      "Usuário adicionado\n",
      "Usuário adicionado\n",
      "Disciplina adicionada\n"
     ]
    }
   ],
   "source": [
    "import backend.base.addBase as ab\n",
    "from backend.environmentVariable import EnvironmentVariables\n",
    "\n",
    "ab.addCourse(name='c1', code='c1')\n",
    "ab.addUser(type_=EnvironmentVariables.DOCENTE, name='do1', code='do1')\n",
    "ab.addUser(type_=EnvironmentVariables.DOCENTE, name='do2', code='do2')\n",
    "ab.addUser(type_=EnvironmentVariables.DISCENTE, name='di1', code='di1')\n",
    "ab.addDiscipline(code='d1', name='d1')"
   ]
  },
  {
   "cell_type": "code",
   "execution_count": 5,
   "id": "4bdcc00c",
   "metadata": {},
   "outputs": [],
   "source": [
    "from backend.base.discipline import Discipline\n",
    "k = Discipline(discipline_code=\"d1\", workload=34, day=[2], classroom=[1,2,3], shift=\"noturno\")"
   ]
  },
  {
   "cell_type": "code",
   "execution_count": 6,
   "id": "a9be27ea",
   "metadata": {},
   "outputs": [
    {
     "name": "stdout",
     "output_type": "stream",
     "text": [
      "Disciplina aceita.\n"
     ]
    },
    {
     "data": {
      "text/plain": [
       "True"
      ]
     },
     "execution_count": 6,
     "metadata": {},
     "output_type": "execute_result"
    }
   ],
   "source": [
    "from backend.base.course import Course\n",
    "c = Course('c1')\n",
    "c.add_discipline(k)"
   ]
  },
  {
   "cell_type": "code",
   "execution_count": 5,
   "id": "f9fb54cd",
   "metadata": {},
   "outputs": [
    {
     "name": "stdout",
     "output_type": "stream",
     "text": [
      "Disciplina aceita.\n",
      "Curso registrado\n"
     ]
    }
   ],
   "source": [
    "c.add_discipline(k)\n",
    "c.register_course()"
   ]
  },
  {
   "cell_type": "code",
   "execution_count": 8,
   "id": "168b2618",
   "metadata": {},
   "outputs": [
    {
     "name": "stdout",
     "output_type": "stream",
     "text": [
      "Discente aceito\n",
      "Aluno aceito na disciplina.\n",
      "[] []\n",
      "Disciplina deletada de seus registros.\n"
     ]
    }
   ],
   "source": [
    "from backend.discenteProcess import DiscenteProcess\n",
    "p = DiscenteProcess(_discente_code='iii')\n",
    "p.add_discipline('bbb')\n",
    "p.delete_discipline('bbb')"
   ]
  },
  {
   "cell_type": "code",
   "execution_count": 8,
   "id": "bfe6baa2",
   "metadata": {},
   "outputs": [
    {
     "data": {
      "text/plain": [
       "([1, 3], 2, [])"
      ]
     },
     "execution_count": 8,
     "metadata": {},
     "output_type": "execute_result"
    }
   ],
   "source": [
    "a = [1,2,3]\n",
    "v = a.pop(1)\n",
    "a, v, a[3:]"
   ]
  },
  {
   "cell_type": "code",
   "execution_count": null,
   "id": "c61c41e6",
   "metadata": {},
   "outputs": [],
   "source": [
    "from backend.discenteProcess import DiscenteProcess\n",
    "p = DiscenteProcess(_discente_code='iii')\n",
    "p.add_discipline('bbb')\n",
    "p.delete_discipline('bbb')"
   ]
  },
  {
   "cell_type": "code",
   "execution_count": 1,
   "id": "acd46068",
   "metadata": {},
   "outputs": [],
   "source": [
    "from backend.base.discipline import Discipline\n",
    "k = Discipline(discipline_code=\"d1\", workload=34, day=[2], classroom=[1,2,3], shift=\"noturno\")\n",
    "k.register_discipline()"
   ]
  },
  {
   "cell_type": "code",
   "execution_count": 2,
   "id": "f5195dce",
   "metadata": {},
   "outputs": [
    {
     "data": {
      "text/plain": [
       "{'workload': 34,\n",
       " 'day': [2],\n",
       " 'classroom': [1, 2, 3],\n",
       " 'shift': 'noturno',\n",
       " 'discente': []}"
      ]
     },
     "execution_count": 2,
     "metadata": {},
     "output_type": "execute_result"
    }
   ],
   "source": [
    "k.get_dict_discipline()"
   ]
  },
  {
   "cell_type": "code",
   "execution_count": 1,
   "id": "b980279d",
   "metadata": {},
   "outputs": [],
   "source": [
    "import backend.tablesProcess as tp\n",
    "import pathlib\n",
    "tp.delete_discipline(\"d1\")"
   ]
  },
  {
   "cell_type": "code",
   "execution_count": 2,
   "id": "4d1e1669",
   "metadata": {},
   "outputs": [],
   "source": [
    "from backend.base.course import Course\n",
    "c = Course('c1')"
   ]
  }
 ],
 "metadata": {
  "kernelspec": {
   "display_name": "venv",
   "language": "python",
   "name": "python3"
  },
  "language_info": {
   "codemirror_mode": {
    "name": "ipython",
    "version": 3
   },
   "file_extension": ".py",
   "mimetype": "text/x-python",
   "name": "python",
   "nbconvert_exporter": "python",
   "pygments_lexer": "ipython3",
   "version": "3.12.3"
  }
 },
 "nbformat": 4,
 "nbformat_minor": 5
}
